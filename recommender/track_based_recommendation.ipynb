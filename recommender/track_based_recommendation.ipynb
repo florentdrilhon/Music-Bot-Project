{
 "cells": [
  {
   "cell_type": "markdown",
   "metadata": {
    "id": "CEn3mSSRy7jv"
   },
   "source": [
    "# Track recommender system"
   ]
  },
  {
   "cell_type": "markdown",
   "metadata": {
    "id": "oohy9lfkzKVu"
   },
   "source": [
    "As in most cases, when interacting with a chatbot, a user has no information registered about his tastes and I have no dataset nor informations about other user tastes, it is more meaning-ful to build a recommender system based on the similarity between a track he likes and other tracks. So I decided to build a content-based collaborative-filtering recommender system called **More like This** (MLT).\n",
    "\n"
   ]
  },
  {
   "cell_type": "code",
   "execution_count": 1,
   "metadata": {
    "colab": {
     "base_uri": "https://localhost:8080/",
     "height": 73,
     "resources": {
      "http://localhost:8080/nbextensions/google.colab/files.js": {
       "data": "Ly8gQ29weXJpZ2h0IDIwMTcgR29vZ2xlIExMQwovLwovLyBMaWNlbnNlZCB1bmRlciB0aGUgQXBhY2hlIExpY2Vuc2UsIFZlcnNpb24gMi4wICh0aGUgIkxpY2Vuc2UiKTsKLy8geW91IG1heSBub3QgdXNlIHRoaXMgZmlsZSBleGNlcHQgaW4gY29tcGxpYW5jZSB3aXRoIHRoZSBMaWNlbnNlLgovLyBZb3UgbWF5IG9idGFpbiBhIGNvcHkgb2YgdGhlIExpY2Vuc2UgYXQKLy8KLy8gICAgICBodHRwOi8vd3d3LmFwYWNoZS5vcmcvbGljZW5zZXMvTElDRU5TRS0yLjAKLy8KLy8gVW5sZXNzIHJlcXVpcmVkIGJ5IGFwcGxpY2FibGUgbGF3IG9yIGFncmVlZCB0byBpbiB3cml0aW5nLCBzb2Z0d2FyZQovLyBkaXN0cmlidXRlZCB1bmRlciB0aGUgTGljZW5zZSBpcyBkaXN0cmlidXRlZCBvbiBhbiAiQVMgSVMiIEJBU0lTLAovLyBXSVRIT1VUIFdBUlJBTlRJRVMgT1IgQ09ORElUSU9OUyBPRiBBTlkgS0lORCwgZWl0aGVyIGV4cHJlc3Mgb3IgaW1wbGllZC4KLy8gU2VlIHRoZSBMaWNlbnNlIGZvciB0aGUgc3BlY2lmaWMgbGFuZ3VhZ2UgZ292ZXJuaW5nIHBlcm1pc3Npb25zIGFuZAovLyBsaW1pdGF0aW9ucyB1bmRlciB0aGUgTGljZW5zZS4KCi8qKgogKiBAZmlsZW92ZXJ2aWV3IEhlbHBlcnMgZm9yIGdvb2dsZS5jb2xhYiBQeXRob24gbW9kdWxlLgogKi8KKGZ1bmN0aW9uKHNjb3BlKSB7CmZ1bmN0aW9uIHNwYW4odGV4dCwgc3R5bGVBdHRyaWJ1dGVzID0ge30pIHsKICBjb25zdCBlbGVtZW50ID0gZG9jdW1lbnQuY3JlYXRlRWxlbWVudCgnc3BhbicpOwogIGVsZW1lbnQudGV4dENvbnRlbnQgPSB0ZXh0OwogIGZvciAoY29uc3Qga2V5IG9mIE9iamVjdC5rZXlzKHN0eWxlQXR0cmlidXRlcykpIHsKICAgIGVsZW1lbnQuc3R5bGVba2V5XSA9IHN0eWxlQXR0cmlidXRlc1trZXldOwogIH0KICByZXR1cm4gZWxlbWVudDsKfQoKLy8gTWF4IG51bWJlciBvZiBieXRlcyB3aGljaCB3aWxsIGJlIHVwbG9hZGVkIGF0IGEgdGltZS4KY29uc3QgTUFYX1BBWUxPQURfU0laRSA9IDEwMCAqIDEwMjQ7CgpmdW5jdGlvbiBfdXBsb2FkRmlsZXMoaW5wdXRJZCwgb3V0cHV0SWQpIHsKICBjb25zdCBzdGVwcyA9IHVwbG9hZEZpbGVzU3RlcChpbnB1dElkLCBvdXRwdXRJZCk7CiAgY29uc3Qgb3V0cHV0RWxlbWVudCA9IGRvY3VtZW50LmdldEVsZW1lbnRCeUlkKG91dHB1dElkKTsKICAvLyBDYWNoZSBzdGVwcyBvbiB0aGUgb3V0cHV0RWxlbWVudCB0byBtYWtlIGl0IGF2YWlsYWJsZSBmb3IgdGhlIG5leHQgY2FsbAogIC8vIHRvIHVwbG9hZEZpbGVzQ29udGludWUgZnJvbSBQeXRob24uCiAgb3V0cHV0RWxlbWVudC5zdGVwcyA9IHN0ZXBzOwoKICByZXR1cm4gX3VwbG9hZEZpbGVzQ29udGludWUob3V0cHV0SWQpOwp9CgovLyBUaGlzIGlzIHJvdWdobHkgYW4gYXN5bmMgZ2VuZXJhdG9yIChub3Qgc3VwcG9ydGVkIGluIHRoZSBicm93c2VyIHlldCksCi8vIHdoZXJlIHRoZXJlIGFyZSBtdWx0aXBsZSBhc3luY2hyb25vdXMgc3RlcHMgYW5kIHRoZSBQeXRob24gc2lkZSBpcyBnb2luZwovLyB0byBwb2xsIGZvciBjb21wbGV0aW9uIG9mIGVhY2ggc3RlcC4KLy8gVGhpcyB1c2VzIGEgUHJvbWlzZSB0byBibG9jayB0aGUgcHl0aG9uIHNpZGUgb24gY29tcGxldGlvbiBvZiBlYWNoIHN0ZXAsCi8vIHRoZW4gcGFzc2VzIHRoZSByZXN1bHQgb2YgdGhlIHByZXZpb3VzIHN0ZXAgYXMgdGhlIGlucHV0IHRvIHRoZSBuZXh0IHN0ZXAuCmZ1bmN0aW9uIF91cGxvYWRGaWxlc0NvbnRpbnVlKG91dHB1dElkKSB7CiAgY29uc3Qgb3V0cHV0RWxlbWVudCA9IGRvY3VtZW50LmdldEVsZW1lbnRCeUlkKG91dHB1dElkKTsKICBjb25zdCBzdGVwcyA9IG91dHB1dEVsZW1lbnQuc3RlcHM7CgogIGNvbnN0IG5leHQgPSBzdGVwcy5uZXh0KG91dHB1dEVsZW1lbnQubGFzdFByb21pc2VWYWx1ZSk7CiAgcmV0dXJuIFByb21pc2UucmVzb2x2ZShuZXh0LnZhbHVlLnByb21pc2UpLnRoZW4oKHZhbHVlKSA9PiB7CiAgICAvLyBDYWNoZSB0aGUgbGFzdCBwcm9taXNlIHZhbHVlIHRvIG1ha2UgaXQgYXZhaWxhYmxlIHRvIHRoZSBuZXh0CiAgICAvLyBzdGVwIG9mIHRoZSBnZW5lcmF0b3IuCiAgICBvdXRwdXRFbGVtZW50Lmxhc3RQcm9taXNlVmFsdWUgPSB2YWx1ZTsKICAgIHJldHVybiBuZXh0LnZhbHVlLnJlc3BvbnNlOwogIH0pOwp9CgovKioKICogR2VuZXJhdG9yIGZ1bmN0aW9uIHdoaWNoIGlzIGNhbGxlZCBiZXR3ZWVuIGVhY2ggYXN5bmMgc3RlcCBvZiB0aGUgdXBsb2FkCiAqIHByb2Nlc3MuCiAqIEBwYXJhbSB7c3RyaW5nfSBpbnB1dElkIEVsZW1lbnQgSUQgb2YgdGhlIGlucHV0IGZpbGUgcGlja2VyIGVsZW1lbnQuCiAqIEBwYXJhbSB7c3RyaW5nfSBvdXRwdXRJZCBFbGVtZW50IElEIG9mIHRoZSBvdXRwdXQgZGlzcGxheS4KICogQHJldHVybiB7IUl0ZXJhYmxlPCFPYmplY3Q+fSBJdGVyYWJsZSBvZiBuZXh0IHN0ZXBzLgogKi8KZnVuY3Rpb24qIHVwbG9hZEZpbGVzU3RlcChpbnB1dElkLCBvdXRwdXRJZCkgewogIGNvbnN0IGlucHV0RWxlbWVudCA9IGRvY3VtZW50LmdldEVsZW1lbnRCeUlkKGlucHV0SWQpOwogIGlucHV0RWxlbWVudC5kaXNhYmxlZCA9IGZhbHNlOwoKICBjb25zdCBvdXRwdXRFbGVtZW50ID0gZG9jdW1lbnQuZ2V0RWxlbWVudEJ5SWQob3V0cHV0SWQpOwogIG91dHB1dEVsZW1lbnQuaW5uZXJIVE1MID0gJyc7CgogIGNvbnN0IHBpY2tlZFByb21pc2UgPSBuZXcgUHJvbWlzZSgocmVzb2x2ZSkgPT4gewogICAgaW5wdXRFbGVtZW50LmFkZEV2ZW50TGlzdGVuZXIoJ2NoYW5nZScsIChlKSA9PiB7CiAgICAgIHJlc29sdmUoZS50YXJnZXQuZmlsZXMpOwogICAgfSk7CiAgfSk7CgogIGNvbnN0IGNhbmNlbCA9IGRvY3VtZW50LmNyZWF0ZUVsZW1lbnQoJ2J1dHRvbicpOwogIGlucHV0RWxlbWVudC5wYXJlbnRFbGVtZW50LmFwcGVuZENoaWxkKGNhbmNlbCk7CiAgY2FuY2VsLnRleHRDb250ZW50ID0gJ0NhbmNlbCB1cGxvYWQnOwogIGNvbnN0IGNhbmNlbFByb21pc2UgPSBuZXcgUHJvbWlzZSgocmVzb2x2ZSkgPT4gewogICAgY2FuY2VsLm9uY2xpY2sgPSAoKSA9PiB7CiAgICAgIHJlc29sdmUobnVsbCk7CiAgICB9OwogIH0pOwoKICAvLyBXYWl0IGZvciB0aGUgdXNlciB0byBwaWNrIHRoZSBmaWxlcy4KICBjb25zdCBmaWxlcyA9IHlpZWxkIHsKICAgIHByb21pc2U6IFByb21pc2UucmFjZShbcGlja2VkUHJvbWlzZSwgY2FuY2VsUHJvbWlzZV0pLAogICAgcmVzcG9uc2U6IHsKICAgICAgYWN0aW9uOiAnc3RhcnRpbmcnLAogICAgfQogIH07CgogIGNhbmNlbC5yZW1vdmUoKTsKCiAgLy8gRGlzYWJsZSB0aGUgaW5wdXQgZWxlbWVudCBzaW5jZSBmdXJ0aGVyIHBpY2tzIGFyZSBub3QgYWxsb3dlZC4KICBpbnB1dEVsZW1lbnQuZGlzYWJsZWQgPSB0cnVlOwoKICBpZiAoIWZpbGVzKSB7CiAgICByZXR1cm4gewogICAgICByZXNwb25zZTogewogICAgICAgIGFjdGlvbjogJ2NvbXBsZXRlJywKICAgICAgfQogICAgfTsKICB9CgogIGZvciAoY29uc3QgZmlsZSBvZiBmaWxlcykgewogICAgY29uc3QgbGkgPSBkb2N1bWVudC5jcmVhdGVFbGVtZW50KCdsaScpOwogICAgbGkuYXBwZW5kKHNwYW4oZmlsZS5uYW1lLCB7Zm9udFdlaWdodDogJ2JvbGQnfSkpOwogICAgbGkuYXBwZW5kKHNwYW4oCiAgICAgICAgYCgke2ZpbGUudHlwZSB8fCAnbi9hJ30pIC0gJHtmaWxlLnNpemV9IGJ5dGVzLCBgICsKICAgICAgICBgbGFzdCBtb2RpZmllZDogJHsKICAgICAgICAgICAgZmlsZS5sYXN0TW9kaWZpZWREYXRlID8gZmlsZS5sYXN0TW9kaWZpZWREYXRlLnRvTG9jYWxlRGF0ZVN0cmluZygpIDoKICAgICAgICAgICAgICAgICAgICAgICAgICAgICAgICAgICAgJ24vYSd9IC0gYCkpOwogICAgY29uc3QgcGVyY2VudCA9IHNwYW4oJzAlIGRvbmUnKTsKICAgIGxpLmFwcGVuZENoaWxkKHBlcmNlbnQpOwoKICAgIG91dHB1dEVsZW1lbnQuYXBwZW5kQ2hpbGQobGkpOwoKICAgIGNvbnN0IGZpbGVEYXRhUHJvbWlzZSA9IG5ldyBQcm9taXNlKChyZXNvbHZlKSA9PiB7CiAgICAgIGNvbnN0IHJlYWRlciA9IG5ldyBGaWxlUmVhZGVyKCk7CiAgICAgIHJlYWRlci5vbmxvYWQgPSAoZSkgPT4gewogICAgICAgIHJlc29sdmUoZS50YXJnZXQucmVzdWx0KTsKICAgICAgfTsKICAgICAgcmVhZGVyLnJlYWRBc0FycmF5QnVmZmVyKGZpbGUpOwogICAgfSk7CiAgICAvLyBXYWl0IGZvciB0aGUgZGF0YSB0byBiZSByZWFkeS4KICAgIGxldCBmaWxlRGF0YSA9IHlpZWxkIHsKICAgICAgcHJvbWlzZTogZmlsZURhdGFQcm9taXNlLAogICAgICByZXNwb25zZTogewogICAgICAgIGFjdGlvbjogJ2NvbnRpbnVlJywKICAgICAgfQogICAgfTsKCiAgICAvLyBVc2UgYSBjaHVua2VkIHNlbmRpbmcgdG8gYXZvaWQgbWVzc2FnZSBzaXplIGxpbWl0cy4gU2VlIGIvNjIxMTU2NjAuCiAgICBsZXQgcG9zaXRpb24gPSAwOwogICAgd2hpbGUgKHBvc2l0aW9uIDwgZmlsZURhdGEuYnl0ZUxlbmd0aCkgewogICAgICBjb25zdCBsZW5ndGggPSBNYXRoLm1pbihmaWxlRGF0YS5ieXRlTGVuZ3RoIC0gcG9zaXRpb24sIE1BWF9QQVlMT0FEX1NJWkUpOwogICAgICBjb25zdCBjaHVuayA9IG5ldyBVaW50OEFycmF5KGZpbGVEYXRhLCBwb3NpdGlvbiwgbGVuZ3RoKTsKICAgICAgcG9zaXRpb24gKz0gbGVuZ3RoOwoKICAgICAgY29uc3QgYmFzZTY0ID0gYnRvYShTdHJpbmcuZnJvbUNoYXJDb2RlLmFwcGx5KG51bGwsIGNodW5rKSk7CiAgICAgIHlpZWxkIHsKICAgICAgICByZXNwb25zZTogewogICAgICAgICAgYWN0aW9uOiAnYXBwZW5kJywKICAgICAgICAgIGZpbGU6IGZpbGUubmFtZSwKICAgICAgICAgIGRhdGE6IGJhc2U2NCwKICAgICAgICB9LAogICAgICB9OwogICAgICBwZXJjZW50LnRleHRDb250ZW50ID0KICAgICAgICAgIGAke01hdGgucm91bmQoKHBvc2l0aW9uIC8gZmlsZURhdGEuYnl0ZUxlbmd0aCkgKiAxMDApfSUgZG9uZWA7CiAgICB9CiAgfQoKICAvLyBBbGwgZG9uZS4KICB5aWVsZCB7CiAgICByZXNwb25zZTogewogICAgICBhY3Rpb246ICdjb21wbGV0ZScsCiAgICB9CiAgfTsKfQoKc2NvcGUuZ29vZ2xlID0gc2NvcGUuZ29vZ2xlIHx8IHt9OwpzY29wZS5nb29nbGUuY29sYWIgPSBzY29wZS5nb29nbGUuY29sYWIgfHwge307CnNjb3BlLmdvb2dsZS5jb2xhYi5fZmlsZXMgPSB7CiAgX3VwbG9hZEZpbGVzLAogIF91cGxvYWRGaWxlc0NvbnRpbnVlLAp9Owp9KShzZWxmKTsK",
       "headers": [
        [
         "content-type",
         "application/javascript"
        ]
       ],
       "ok": true,
       "status": 200,
       "status_text": "OK"
      }
     }
    },
    "id": "F_DGiDx1zvCs",
    "outputId": "68b4bad0-a544-4ad3-f72b-a97049c3de46"
   },
   "outputs": [],
   "source": [
    "import pandas as pd\n",
    "import numpy as np\n",
    "from tqdm import tqdm "
   ]
  },
  {
   "cell_type": "code",
   "execution_count": 2,
   "metadata": {
    "id": "zNaCx1pU0juK"
   },
   "outputs": [],
   "source": [
    "tracks=pd.read_csv(\"datasets/data.csv\", sep=',')"
   ]
  },
  {
   "cell_type": "code",
   "execution_count": 3,
   "metadata": {
    "colab": {
     "base_uri": "https://localhost:8080/",
     "height": 417
    },
    "id": "Kw7WNmGH1oKN",
    "outputId": "dfc2e17b-9a4c-4b66-8b3d-fe89567583e2"
   },
   "outputs": [
    {
     "data": {
      "text/html": [
       "<div>\n",
       "<style scoped>\n",
       "    .dataframe tbody tr th:only-of-type {\n",
       "        vertical-align: middle;\n",
       "    }\n",
       "\n",
       "    .dataframe tbody tr th {\n",
       "        vertical-align: top;\n",
       "    }\n",
       "\n",
       "    .dataframe thead th {\n",
       "        text-align: right;\n",
       "    }\n",
       "</style>\n",
       "<table border=\"1\" class=\"dataframe\">\n",
       "  <thead>\n",
       "    <tr style=\"text-align: right;\">\n",
       "      <th></th>\n",
       "      <th>acousticness</th>\n",
       "      <th>artists</th>\n",
       "      <th>danceability</th>\n",
       "      <th>duration_ms</th>\n",
       "      <th>energy</th>\n",
       "      <th>explicit</th>\n",
       "      <th>id</th>\n",
       "      <th>instrumentalness</th>\n",
       "      <th>key</th>\n",
       "      <th>liveness</th>\n",
       "      <th>loudness</th>\n",
       "      <th>mode</th>\n",
       "      <th>name</th>\n",
       "      <th>popularity</th>\n",
       "      <th>release_date</th>\n",
       "      <th>speechiness</th>\n",
       "      <th>tempo</th>\n",
       "      <th>valence</th>\n",
       "      <th>year</th>\n",
       "    </tr>\n",
       "  </thead>\n",
       "  <tbody>\n",
       "    <tr>\n",
       "      <th>0</th>\n",
       "      <td>0.991000</td>\n",
       "      <td>['Mamie Smith']</td>\n",
       "      <td>0.598</td>\n",
       "      <td>168333</td>\n",
       "      <td>0.224</td>\n",
       "      <td>0</td>\n",
       "      <td>0cS0A1fUEUd1EW3FcF8AEI</td>\n",
       "      <td>0.000522</td>\n",
       "      <td>5</td>\n",
       "      <td>0.3790</td>\n",
       "      <td>-12.628</td>\n",
       "      <td>0</td>\n",
       "      <td>Keep A Song In Your Soul</td>\n",
       "      <td>12</td>\n",
       "      <td>1920</td>\n",
       "      <td>0.0936</td>\n",
       "      <td>149.976</td>\n",
       "      <td>0.6340</td>\n",
       "      <td>1920</td>\n",
       "    </tr>\n",
       "    <tr>\n",
       "      <th>1</th>\n",
       "      <td>0.643000</td>\n",
       "      <td>[\"Screamin' Jay Hawkins\"]</td>\n",
       "      <td>0.852</td>\n",
       "      <td>150200</td>\n",
       "      <td>0.517</td>\n",
       "      <td>0</td>\n",
       "      <td>0hbkKFIJm7Z05H8Zl9w30f</td>\n",
       "      <td>0.026400</td>\n",
       "      <td>5</td>\n",
       "      <td>0.0809</td>\n",
       "      <td>-7.261</td>\n",
       "      <td>0</td>\n",
       "      <td>I Put A Spell On You</td>\n",
       "      <td>7</td>\n",
       "      <td>1920-01-05</td>\n",
       "      <td>0.0534</td>\n",
       "      <td>86.889</td>\n",
       "      <td>0.9500</td>\n",
       "      <td>1920</td>\n",
       "    </tr>\n",
       "    <tr>\n",
       "      <th>2</th>\n",
       "      <td>0.993000</td>\n",
       "      <td>['Mamie Smith']</td>\n",
       "      <td>0.647</td>\n",
       "      <td>163827</td>\n",
       "      <td>0.186</td>\n",
       "      <td>0</td>\n",
       "      <td>11m7laMUgmOKqI3oYzuhne</td>\n",
       "      <td>0.000018</td>\n",
       "      <td>0</td>\n",
       "      <td>0.5190</td>\n",
       "      <td>-12.098</td>\n",
       "      <td>1</td>\n",
       "      <td>Golfing Papa</td>\n",
       "      <td>4</td>\n",
       "      <td>1920</td>\n",
       "      <td>0.1740</td>\n",
       "      <td>97.600</td>\n",
       "      <td>0.6890</td>\n",
       "      <td>1920</td>\n",
       "    </tr>\n",
       "    <tr>\n",
       "      <th>3</th>\n",
       "      <td>0.000173</td>\n",
       "      <td>['Oscar Velazquez']</td>\n",
       "      <td>0.730</td>\n",
       "      <td>422087</td>\n",
       "      <td>0.798</td>\n",
       "      <td>0</td>\n",
       "      <td>19Lc5SfJJ5O1oaxY0fpwfh</td>\n",
       "      <td>0.801000</td>\n",
       "      <td>2</td>\n",
       "      <td>0.1280</td>\n",
       "      <td>-7.311</td>\n",
       "      <td>1</td>\n",
       "      <td>True House Music - Xavier Santos &amp; Carlos Gomi...</td>\n",
       "      <td>17</td>\n",
       "      <td>1920-01-01</td>\n",
       "      <td>0.0425</td>\n",
       "      <td>127.997</td>\n",
       "      <td>0.0422</td>\n",
       "      <td>1920</td>\n",
       "    </tr>\n",
       "    <tr>\n",
       "      <th>4</th>\n",
       "      <td>0.295000</td>\n",
       "      <td>['Mixe']</td>\n",
       "      <td>0.704</td>\n",
       "      <td>165224</td>\n",
       "      <td>0.707</td>\n",
       "      <td>1</td>\n",
       "      <td>2hJjbsLCytGsnAHfdsLejp</td>\n",
       "      <td>0.000246</td>\n",
       "      <td>10</td>\n",
       "      <td>0.4020</td>\n",
       "      <td>-6.036</td>\n",
       "      <td>0</td>\n",
       "      <td>Xuniverxe</td>\n",
       "      <td>2</td>\n",
       "      <td>1920-10-01</td>\n",
       "      <td>0.0768</td>\n",
       "      <td>122.076</td>\n",
       "      <td>0.2990</td>\n",
       "      <td>1920</td>\n",
       "    </tr>\n",
       "  </tbody>\n",
       "</table>\n",
       "</div>"
      ],
      "text/plain": [
       "   acousticness                    artists  danceability  duration_ms  energy  \\\n",
       "0      0.991000            ['Mamie Smith']         0.598       168333   0.224   \n",
       "1      0.643000  [\"Screamin' Jay Hawkins\"]         0.852       150200   0.517   \n",
       "2      0.993000            ['Mamie Smith']         0.647       163827   0.186   \n",
       "3      0.000173        ['Oscar Velazquez']         0.730       422087   0.798   \n",
       "4      0.295000                   ['Mixe']         0.704       165224   0.707   \n",
       "\n",
       "   explicit                      id  instrumentalness  key  liveness  \\\n",
       "0         0  0cS0A1fUEUd1EW3FcF8AEI          0.000522    5    0.3790   \n",
       "1         0  0hbkKFIJm7Z05H8Zl9w30f          0.026400    5    0.0809   \n",
       "2         0  11m7laMUgmOKqI3oYzuhne          0.000018    0    0.5190   \n",
       "3         0  19Lc5SfJJ5O1oaxY0fpwfh          0.801000    2    0.1280   \n",
       "4         1  2hJjbsLCytGsnAHfdsLejp          0.000246   10    0.4020   \n",
       "\n",
       "   loudness  mode                                               name  \\\n",
       "0   -12.628     0                           Keep A Song In Your Soul   \n",
       "1    -7.261     0                               I Put A Spell On You   \n",
       "2   -12.098     1                                       Golfing Papa   \n",
       "3    -7.311     1  True House Music - Xavier Santos & Carlos Gomi...   \n",
       "4    -6.036     0                                          Xuniverxe   \n",
       "\n",
       "   popularity release_date  speechiness    tempo  valence  year  \n",
       "0          12         1920       0.0936  149.976   0.6340  1920  \n",
       "1           7   1920-01-05       0.0534   86.889   0.9500  1920  \n",
       "2           4         1920       0.1740   97.600   0.6890  1920  \n",
       "3          17   1920-01-01       0.0425  127.997   0.0422  1920  \n",
       "4           2   1920-10-01       0.0768  122.076   0.2990  1920  "
      ]
     },
     "execution_count": 3,
     "metadata": {},
     "output_type": "execute_result"
    }
   ],
   "source": [
    "tracks.head()"
   ]
  },
  {
   "cell_type": "code",
   "execution_count": 4,
   "metadata": {
    "colab": {
     "base_uri": "https://localhost:8080/"
    },
    "id": "gpXZM76Y1pvM",
    "outputId": "e5a145c6-1964-4009-caff-7de6b38438f5"
   },
   "outputs": [
    {
     "data": {
      "text/plain": [
       "Index(['acousticness', 'artists', 'danceability', 'duration_ms', 'energy',\n",
       "       'explicit', 'id', 'instrumentalness', 'key', 'liveness', 'loudness',\n",
       "       'mode', 'name', 'popularity', 'release_date', 'speechiness', 'tempo',\n",
       "       'valence', 'year'],\n",
       "      dtype='object')"
      ]
     },
     "execution_count": 4,
     "metadata": {},
     "output_type": "execute_result"
    }
   ],
   "source": [
    "tracks.columns"
   ]
  },
  {
   "cell_type": "markdown",
   "metadata": {
    "id": "yC91H8U0d78g"
   },
   "source": [
    "So the dataset I am using is a dataset from spotify containing feature informations about 170000 tracks and can serve as a good dataset to recommend music to users."
   ]
  },
  {
   "cell_type": "code",
   "execution_count": 5,
   "metadata": {
    "colab": {
     "base_uri": "https://localhost:8080/",
     "height": 690
    },
    "id": "vmX8cmA3cQgA",
    "outputId": "2322f72e-d3ea-4ce0-9624-191567e1a2e8"
   },
   "outputs": [
    {
     "data": {
      "text/plain": [
       "<AxesSubplot:>"
      ]
     },
     "execution_count": 5,
     "metadata": {},
     "output_type": "execute_result"
    },
    {
     "data": {
      "image/png": "[encoded data removed]",
      "text/plain": [
       "<Figure size 1440x720 with 2 Axes>"
      ]
     },
     "metadata": {
      "needs_background": "light"
     },
     "output_type": "display_data"
    }
   ],
   "source": [
    "# checking missing values\n",
    "import seaborn as sns\n",
    "import matplotlib.pyplot as plt\n",
    "\n",
    "\n",
    "\n",
    "plt.figure(figsize=(20,10))\n",
    "sns.heatmap(tracks.isna())\n",
    "\n"
   ]
  },
  {
   "cell_type": "markdown",
   "metadata": {
    "id": "abHazIXmd1FI"
   },
   "source": [
    "No missing values."
   ]
  },
  {
   "cell_type": "markdown",
   "metadata": {
    "id": "usJAIuBz1zlt"
   },
   "source": [
    "As there are a lot of information that are not interesting for the building of the recommender system, I decided to delete the columns :\n",
    "\n",
    "- Artists -> to many artists to base a similarity on this parameter\n",
    "- Name -> as the Id is the same that from the API, this is the only identificator needed\n",
    "- Year and release_date -> these informations are not in the track features sent by the API"
   ]
  },
  {
   "cell_type": "code",
   "execution_count": 6,
   "metadata": {
    "id": "CKDkJPfc26b8"
   },
   "outputs": [],
   "source": [
    "df=tracks.copy()"
   ]
  },
  {
   "cell_type": "code",
   "execution_count": 7,
   "metadata": {
    "id": "aBVHOLIQ2-Hn"
   },
   "outputs": [],
   "source": [
    "df=df.drop(['artists', 'name', 'release_date', 'explicit','year', 'popularity', 'duration_ms'], axis=1)"
   ]
  },
  {
   "cell_type": "code",
   "execution_count": 8,
   "metadata": {
    "colab": {
     "base_uri": "https://localhost:8080/",
     "height": 237
    },
    "id": "Lgaw13ok3c6H",
    "outputId": "06972f53-443c-475a-eeab-bd6320b464c0"
   },
   "outputs": [
    {
     "data": {
      "text/html": [
       "<div>\n",
       "<style scoped>\n",
       "    .dataframe tbody tr th:only-of-type {\n",
       "        vertical-align: middle;\n",
       "    }\n",
       "\n",
       "    .dataframe tbody tr th {\n",
       "        vertical-align: top;\n",
       "    }\n",
       "\n",
       "    .dataframe thead th {\n",
       "        text-align: right;\n",
       "    }\n",
       "</style>\n",
       "<table border=\"1\" class=\"dataframe\">\n",
       "  <thead>\n",
       "    <tr style=\"text-align: right;\">\n",
       "      <th></th>\n",
       "      <th>acousticness</th>\n",
       "      <th>danceability</th>\n",
       "      <th>energy</th>\n",
       "      <th>instrumentalness</th>\n",
       "      <th>key</th>\n",
       "      <th>liveness</th>\n",
       "      <th>loudness</th>\n",
       "      <th>mode</th>\n",
       "      <th>speechiness</th>\n",
       "      <th>tempo</th>\n",
       "      <th>valence</th>\n",
       "    </tr>\n",
       "    <tr>\n",
       "      <th>id</th>\n",
       "      <th></th>\n",
       "      <th></th>\n",
       "      <th></th>\n",
       "      <th></th>\n",
       "      <th></th>\n",
       "      <th></th>\n",
       "      <th></th>\n",
       "      <th></th>\n",
       "      <th></th>\n",
       "      <th></th>\n",
       "      <th></th>\n",
       "    </tr>\n",
       "  </thead>\n",
       "  <tbody>\n",
       "    <tr>\n",
       "      <th>0cS0A1fUEUd1EW3FcF8AEI</th>\n",
       "      <td>0.991000</td>\n",
       "      <td>0.598</td>\n",
       "      <td>0.224</td>\n",
       "      <td>0.000522</td>\n",
       "      <td>5</td>\n",
       "      <td>0.3790</td>\n",
       "      <td>-12.628</td>\n",
       "      <td>0</td>\n",
       "      <td>0.0936</td>\n",
       "      <td>149.976</td>\n",
       "      <td>0.6340</td>\n",
       "    </tr>\n",
       "    <tr>\n",
       "      <th>0hbkKFIJm7Z05H8Zl9w30f</th>\n",
       "      <td>0.643000</td>\n",
       "      <td>0.852</td>\n",
       "      <td>0.517</td>\n",
       "      <td>0.026400</td>\n",
       "      <td>5</td>\n",
       "      <td>0.0809</td>\n",
       "      <td>-7.261</td>\n",
       "      <td>0</td>\n",
       "      <td>0.0534</td>\n",
       "      <td>86.889</td>\n",
       "      <td>0.9500</td>\n",
       "    </tr>\n",
       "    <tr>\n",
       "      <th>11m7laMUgmOKqI3oYzuhne</th>\n",
       "      <td>0.993000</td>\n",
       "      <td>0.647</td>\n",
       "      <td>0.186</td>\n",
       "      <td>0.000018</td>\n",
       "      <td>0</td>\n",
       "      <td>0.5190</td>\n",
       "      <td>-12.098</td>\n",
       "      <td>1</td>\n",
       "      <td>0.1740</td>\n",
       "      <td>97.600</td>\n",
       "      <td>0.6890</td>\n",
       "    </tr>\n",
       "    <tr>\n",
       "      <th>19Lc5SfJJ5O1oaxY0fpwfh</th>\n",
       "      <td>0.000173</td>\n",
       "      <td>0.730</td>\n",
       "      <td>0.798</td>\n",
       "      <td>0.801000</td>\n",
       "      <td>2</td>\n",
       "      <td>0.1280</td>\n",
       "      <td>-7.311</td>\n",
       "      <td>1</td>\n",
       "      <td>0.0425</td>\n",
       "      <td>127.997</td>\n",
       "      <td>0.0422</td>\n",
       "    </tr>\n",
       "    <tr>\n",
       "      <th>2hJjbsLCytGsnAHfdsLejp</th>\n",
       "      <td>0.295000</td>\n",
       "      <td>0.704</td>\n",
       "      <td>0.707</td>\n",
       "      <td>0.000246</td>\n",
       "      <td>10</td>\n",
       "      <td>0.4020</td>\n",
       "      <td>-6.036</td>\n",
       "      <td>0</td>\n",
       "      <td>0.0768</td>\n",
       "      <td>122.076</td>\n",
       "      <td>0.2990</td>\n",
       "    </tr>\n",
       "  </tbody>\n",
       "</table>\n",
       "</div>"
      ],
      "text/plain": [
       "                        acousticness  danceability  energy  instrumentalness  \\\n",
       "id                                                                             \n",
       "0cS0A1fUEUd1EW3FcF8AEI      0.991000         0.598   0.224          0.000522   \n",
       "0hbkKFIJm7Z05H8Zl9w30f      0.643000         0.852   0.517          0.026400   \n",
       "11m7laMUgmOKqI3oYzuhne      0.993000         0.647   0.186          0.000018   \n",
       "19Lc5SfJJ5O1oaxY0fpwfh      0.000173         0.730   0.798          0.801000   \n",
       "2hJjbsLCytGsnAHfdsLejp      0.295000         0.704   0.707          0.000246   \n",
       "\n",
       "                        key  liveness  loudness  mode  speechiness    tempo  \\\n",
       "id                                                                            \n",
       "0cS0A1fUEUd1EW3FcF8AEI    5    0.3790   -12.628     0       0.0936  149.976   \n",
       "0hbkKFIJm7Z05H8Zl9w30f    5    0.0809    -7.261     0       0.0534   86.889   \n",
       "11m7laMUgmOKqI3oYzuhne    0    0.5190   -12.098     1       0.1740   97.600   \n",
       "19Lc5SfJJ5O1oaxY0fpwfh    2    0.1280    -7.311     1       0.0425  127.997   \n",
       "2hJjbsLCytGsnAHfdsLejp   10    0.4020    -6.036     0       0.0768  122.076   \n",
       "\n",
       "                        valence  \n",
       "id                               \n",
       "0cS0A1fUEUd1EW3FcF8AEI   0.6340  \n",
       "0hbkKFIJm7Z05H8Zl9w30f   0.9500  \n",
       "11m7laMUgmOKqI3oYzuhne   0.6890  \n",
       "19Lc5SfJJ5O1oaxY0fpwfh   0.0422  \n",
       "2hJjbsLCytGsnAHfdsLejp   0.2990  "
      ]
     },
     "execution_count": 8,
     "metadata": {},
     "output_type": "execute_result"
    }
   ],
   "source": [
    "df=df.set_index('id')\n",
    "df.head()"
   ]
  },
  {
   "cell_type": "markdown",
   "metadata": {
    "id": "uXYeG74W3gCM"
   },
   "source": [
    "To build a simple MLT system, I just need to compute the similarity between a given track and all the tracks in the database and return the most similars.\n",
    "\n",
    "To do so I need to implement a similarity function between two tracks, for that I decided to use the cosine similarity."
   ]
  },
  {
   "cell_type": "markdown",
   "metadata": {
    "id": "ey3h-LFCZm8B"
   },
   "source": [
    "First, to compute the cosine similarity, I need to normalize the data. In order to do so I will use a mean normalization"
   ]
  },
  {
   "cell_type": "code",
   "execution_count": 9,
   "metadata": {
    "id": "3nm09fgBciTp"
   },
   "outputs": [],
   "source": [
    "#normalized_df=(df-df.mean())/df.std()\n",
    "normalized_df=(df-df.min())/(df.max()-df.min())"
   ]
  },
  {
   "cell_type": "code",
   "execution_count": 10,
   "metadata": {
    "colab": {
     "base_uri": "https://localhost:8080/",
     "height": 237
    },
    "id": "Bh6Cj3krcnrm",
    "outputId": "53081de8-c753-4e82-972a-e43d4ea3e33a"
   },
   "outputs": [
    {
     "data": {
      "text/html": [
       "<div>\n",
       "<style scoped>\n",
       "    .dataframe tbody tr th:only-of-type {\n",
       "        vertical-align: middle;\n",
       "    }\n",
       "\n",
       "    .dataframe tbody tr th {\n",
       "        vertical-align: top;\n",
       "    }\n",
       "\n",
       "    .dataframe thead th {\n",
       "        text-align: right;\n",
       "    }\n",
       "</style>\n",
       "<table border=\"1\" class=\"dataframe\">\n",
       "  <thead>\n",
       "    <tr style=\"text-align: right;\">\n",
       "      <th></th>\n",
       "      <th>acousticness</th>\n",
       "      <th>danceability</th>\n",
       "      <th>energy</th>\n",
       "      <th>instrumentalness</th>\n",
       "      <th>key</th>\n",
       "      <th>liveness</th>\n",
       "      <th>loudness</th>\n",
       "      <th>mode</th>\n",
       "      <th>speechiness</th>\n",
       "      <th>tempo</th>\n",
       "      <th>valence</th>\n",
       "    </tr>\n",
       "    <tr>\n",
       "      <th>id</th>\n",
       "      <th></th>\n",
       "      <th></th>\n",
       "      <th></th>\n",
       "      <th></th>\n",
       "      <th></th>\n",
       "      <th></th>\n",
       "      <th></th>\n",
       "      <th></th>\n",
       "      <th></th>\n",
       "      <th></th>\n",
       "      <th></th>\n",
       "    </tr>\n",
       "  </thead>\n",
       "  <tbody>\n",
       "    <tr>\n",
       "      <th>0cS0A1fUEUd1EW3FcF8AEI</th>\n",
       "      <td>0.994980</td>\n",
       "      <td>0.605263</td>\n",
       "      <td>0.224</td>\n",
       "      <td>0.000522</td>\n",
       "      <td>0.454545</td>\n",
       "      <td>0.3790</td>\n",
       "      <td>0.741868</td>\n",
       "      <td>0.0</td>\n",
       "      <td>0.096395</td>\n",
       "      <td>0.615900</td>\n",
       "      <td>0.6340</td>\n",
       "    </tr>\n",
       "    <tr>\n",
       "      <th>0hbkKFIJm7Z05H8Zl9w30f</th>\n",
       "      <td>0.645582</td>\n",
       "      <td>0.862348</td>\n",
       "      <td>0.517</td>\n",
       "      <td>0.026400</td>\n",
       "      <td>0.454545</td>\n",
       "      <td>0.0809</td>\n",
       "      <td>0.825918</td>\n",
       "      <td>0.0</td>\n",
       "      <td>0.054995</td>\n",
       "      <td>0.356823</td>\n",
       "      <td>0.9500</td>\n",
       "    </tr>\n",
       "    <tr>\n",
       "      <th>11m7laMUgmOKqI3oYzuhne</th>\n",
       "      <td>0.996988</td>\n",
       "      <td>0.654858</td>\n",
       "      <td>0.186</td>\n",
       "      <td>0.000018</td>\n",
       "      <td>0.000000</td>\n",
       "      <td>0.5190</td>\n",
       "      <td>0.750168</td>\n",
       "      <td>1.0</td>\n",
       "      <td>0.179197</td>\n",
       "      <td>0.400810</td>\n",
       "      <td>0.6890</td>\n",
       "    </tr>\n",
       "    <tr>\n",
       "      <th>19Lc5SfJJ5O1oaxY0fpwfh</th>\n",
       "      <td>0.000174</td>\n",
       "      <td>0.738866</td>\n",
       "      <td>0.798</td>\n",
       "      <td>0.801000</td>\n",
       "      <td>0.181818</td>\n",
       "      <td>0.1280</td>\n",
       "      <td>0.825135</td>\n",
       "      <td>1.0</td>\n",
       "      <td>0.043769</td>\n",
       "      <td>0.525640</td>\n",
       "      <td>0.0422</td>\n",
       "    </tr>\n",
       "    <tr>\n",
       "      <th>2hJjbsLCytGsnAHfdsLejp</th>\n",
       "      <td>0.296185</td>\n",
       "      <td>0.712551</td>\n",
       "      <td>0.707</td>\n",
       "      <td>0.000246</td>\n",
       "      <td>0.909091</td>\n",
       "      <td>0.4020</td>\n",
       "      <td>0.845102</td>\n",
       "      <td>0.0</td>\n",
       "      <td>0.079094</td>\n",
       "      <td>0.501324</td>\n",
       "      <td>0.2990</td>\n",
       "    </tr>\n",
       "  </tbody>\n",
       "</table>\n",
       "</div>"
      ],
      "text/plain": [
       "                        acousticness  danceability  energy  instrumentalness  \\\n",
       "id                                                                             \n",
       "0cS0A1fUEUd1EW3FcF8AEI      0.994980      0.605263   0.224          0.000522   \n",
       "0hbkKFIJm7Z05H8Zl9w30f      0.645582      0.862348   0.517          0.026400   \n",
       "11m7laMUgmOKqI3oYzuhne      0.996988      0.654858   0.186          0.000018   \n",
       "19Lc5SfJJ5O1oaxY0fpwfh      0.000174      0.738866   0.798          0.801000   \n",
       "2hJjbsLCytGsnAHfdsLejp      0.296185      0.712551   0.707          0.000246   \n",
       "\n",
       "                             key  liveness  loudness  mode  speechiness  \\\n",
       "id                                                                        \n",
       "0cS0A1fUEUd1EW3FcF8AEI  0.454545    0.3790  0.741868   0.0     0.096395   \n",
       "0hbkKFIJm7Z05H8Zl9w30f  0.454545    0.0809  0.825918   0.0     0.054995   \n",
       "11m7laMUgmOKqI3oYzuhne  0.000000    0.5190  0.750168   1.0     0.179197   \n",
       "19Lc5SfJJ5O1oaxY0fpwfh  0.181818    0.1280  0.825135   1.0     0.043769   \n",
       "2hJjbsLCytGsnAHfdsLejp  0.909091    0.4020  0.845102   0.0     0.079094   \n",
       "\n",
       "                           tempo  valence  \n",
       "id                                         \n",
       "0cS0A1fUEUd1EW3FcF8AEI  0.615900   0.6340  \n",
       "0hbkKFIJm7Z05H8Zl9w30f  0.356823   0.9500  \n",
       "11m7laMUgmOKqI3oYzuhne  0.400810   0.6890  \n",
       "19Lc5SfJJ5O1oaxY0fpwfh  0.525640   0.0422  \n",
       "2hJjbsLCytGsnAHfdsLejp  0.501324   0.2990  "
      ]
     },
     "execution_count": 10,
     "metadata": {},
     "output_type": "execute_result"
    }
   ],
   "source": [
    "normalized_df.head()"
   ]
  },
  {
   "cell_type": "code",
   "execution_count": 11,
   "metadata": {
    "id": "CVRVxeBUW-ZY"
   },
   "outputs": [],
   "source": [
    "import math\n",
    "def cosine_similarity(v1,v2):\n",
    "    \"compute cosine similarity of v1 to v2: (v1 dot v2)/{||v1||*||v2||)\"\n",
    "    sumxx, sumxy, sumyy = 0, 0, 0\n",
    "    for i in range(len(v1)):\n",
    "        x = v1[i]; y = v2[i]\n",
    "        sumxx += x*x\n",
    "        sumyy += y*y\n",
    "        sumxy += x*y\n",
    "    if sumxx*sumyy != 0:\n",
    "        return sumxy/math.sqrt(sumxx*sumyy)\n",
    "    else:\n",
    "        return 0"
   ]
  },
  {
   "cell_type": "code",
   "execution_count": 12,
   "metadata": {
    "colab": {
     "base_uri": "https://localhost:8080/"
    },
    "id": "yxp3NE41WH5g",
    "outputId": "dd51fc2a-6cf5-4285-8d89-fd42b1c28fb8"
   },
   "outputs": [
    {
     "name": "stdout",
     "output_type": "stream",
     "text": [
      "0.6065626516117105\n"
     ]
    }
   ],
   "source": [
    "\n",
    "track1 = normalized_df.iloc[4,:]\n",
    "track2 = normalized_df.iloc[22, :]\n",
    "\n",
    "print(cosine_similarity(list(track1), list(track2)))"
   ]
  },
  {
   "cell_type": "markdown",
   "metadata": {
    "id": "jgjhkcxyco_3"
   },
   "source": [
    "Here we can see the data is normalized we can now compute our cosine similarity. To build our recommender system, we will simply "
   ]
  },
  {
   "cell_type": "code",
   "execution_count": 13,
   "metadata": {
    "id": "qLEgcO8Wc8iI"
   },
   "outputs": [],
   "source": [
    "\n",
    "def get_recommendations(track_vector, track_matrix, N):\n",
    "    # track vector is the given track vector we want to find similar tracks with\n",
    "    # N is number of similar tracks returned\n",
    "    res={}\n",
    "    # compute the similarity for each track of the dataset\n",
    "    for trackId, track in track_matrix.iterrows():\n",
    "        # as we don't want to return the same track \n",
    "        res[trackId]=cosine_similarity(list(track_vector), list(track))\n",
    "    #sort the result\n",
    "    res=dict(sorted(res.items(), key=lambda res: res[1], reverse=True)[:N])\n",
    "    return res             \n",
    "\n"
   ]
  },
  {
   "cell_type": "code",
   "execution_count": 14,
   "metadata": {
    "id": "485bbBdZYe57"
   },
   "outputs": [],
   "source": [
    "recommendations=get_recommendations(track1, normalized_df, 2)"
   ]
  },
  {
   "cell_type": "code",
   "execution_count": 15,
   "metadata": {
    "colab": {
     "base_uri": "https://localhost:8080/"
    },
    "id": "VOUBPq57Yy72",
    "outputId": "1868e211-6407-43d7-aef0-1196f641b2c4"
   },
   "outputs": [],
   "source": [
    "def displayResults(recommendations):\n",
    "    for id, score in recommendations.items():\n",
    "        track=tracks.loc[tracks['id']==id]\n",
    "        name=track['name'].values[0]\n",
    "        artists=track['artists'].values\n",
    "        print('Title : {}, artists : {}, score : {}'.format(name, artists, score))"
   ]
  },
  {
   "cell_type": "code",
   "execution_count": 16,
   "metadata": {
    "id": "Ax49tQmwZUPa"
   },
   "outputs": [
    {
     "name": "stdout",
     "output_type": "stream",
     "text": [
      "Title : Xuniverxe, artists : [\"['Mixe']\"], score : 1.0\n",
      "Title : Harold the Barrel, artists : [\"['Genesis']\"], score : 0.9975424470398455\n"
     ]
    }
   ],
   "source": [
    "displayResults(recommendations)"
   ]
  },
  {
   "cell_type": "markdown",
   "metadata": {},
   "source": [
    "By listening to the song, we can see that they are not similar at all, there are a lot of ameliorations to compute with the recommender system. But that was just a test, we didn't even cluster the data. \n",
    "\n",
    "As tracks from very different genres can have the same characteristics, it could be interesting to cluster the songs taking in account this feature to add a new feature to our tracks"
   ]
  },
  {
   "cell_type": "markdown",
   "metadata": {},
   "source": [
    "### Clustering"
   ]
  },
  {
   "cell_type": "code",
   "execution_count": 17,
   "metadata": {},
   "outputs": [],
   "source": [
    "data=normalized_df.copy()"
   ]
  },
  {
   "cell_type": "code",
   "execution_count": 18,
   "metadata": {},
   "outputs": [],
   "source": [
    "from sklearn.cluster import KMeans\n",
    "\n",
    "km=KMeans(n_clusters=10)\n",
    "category=km.fit_predict(normalized_df)\n",
    "normalized_df['category']=category\n",
    "normalized_df['category']=(normalized_df['category'] - normalized_df['category'].min())/(normalized_df['category'].max() - normalized_df['category'].min())"
   ]
  },
  {
   "cell_type": "code",
   "execution_count": 19,
   "metadata": {},
   "outputs": [],
   "source": [
    "# as the normalized categories are in the same order, we store them in a list\n",
    "# and will use the index+1 (as index begins at 0) to get the corresponding category non-normalized\n",
    "normalize_categories=list(normalized_df['category'].unique())\n",
    "normalize_categories.sort()"
   ]
  },
  {
   "cell_type": "markdown",
   "metadata": {},
   "source": [
    "Seems good, but as the data coming from the API does not have this new feature, we can create a function to calculate a category for a given track"
   ]
  },
  {
   "cell_type": "code",
   "execution_count": 20,
   "metadata": {},
   "outputs": [],
   "source": [
    "def get_category(track, KM):\n",
    "    track=pd.DataFrame(track)\n",
    "    category=KM.predict(track)\n",
    "    category=normalize_categories[category[0]-1] #getting the normalized cat\n",
    "    track['category']=category\n",
    "    return track"
   ]
  },
  {
   "cell_type": "code",
   "execution_count": 21,
   "metadata": {},
   "outputs": [],
   "source": [
    "track1 = data.iloc[4,:]\n",
    "track1=pd.DataFrame(track1)"
   ]
  },
  {
   "cell_type": "code",
   "execution_count": 22,
   "metadata": {},
   "outputs": [
    {
     "name": "stdout",
     "output_type": "stream",
     "text": [
      "(1, 11)\n"
     ]
    }
   ],
   "source": [
    "track1=track1.T\n",
    "print(track1.shape)\n"
   ]
  },
  {
   "cell_type": "code",
   "execution_count": 23,
   "metadata": {},
   "outputs": [
    {
     "name": "stdout",
     "output_type": "stream",
     "text": [
      "                        acousticness  danceability  energy  instrumentalness  \\\n",
      "2hJjbsLCytGsnAHfdsLejp      0.296185      0.712551   0.707          0.000246   \n",
      "\n",
      "                             key  liveness  loudness  mode  speechiness  \\\n",
      "2hJjbsLCytGsnAHfdsLejp  0.909091     0.402  0.845102   0.0     0.079094   \n",
      "\n",
      "                           tempo  valence  category  \n",
      "2hJjbsLCytGsnAHfdsLejp  0.501324    0.299  0.333333  \n"
     ]
    }
   ],
   "source": [
    "\n",
    "track1=get_category(track1, km)\n",
    "print(track1)"
   ]
  },
  {
   "cell_type": "markdown",
   "metadata": {},
   "source": [
    "Now that we know how to get the cluster for an unknown vector, we can try to get the recommendations"
   ]
  },
  {
   "cell_type": "markdown",
   "metadata": {},
   "source": [
    "As the cosine similarity was not really this accurate (similarity close to 1 for songs completely different) I decided to compute the Manhattan Distance that is more focus on each different feature precisely."
   ]
  },
  {
   "cell_type": "code",
   "execution_count": 24,
   "metadata": {},
   "outputs": [],
   "source": [
    "def get_recommendations_2(track, tracksDf, N=1):\n",
    "    #track is a vector of all selected characteristics \n",
    "    song=tracks.loc[tracks['id']==track.name]\n",
    "    print('Getting recommendations for {} by {} '.format(song[\"name\"].values[0], song.artists.values[0]))\n",
    "    res={}\n",
    "    res[track.name]=1000\n",
    "    for trackId, otherTrack in tracksDf.iterrows():\n",
    "        dist=0\n",
    "        for col in np.arange(len(tracksDf.columns)):\n",
    "            # manhattan distance\n",
    "            dist=dist+np.absolute(float(track[col]) - float(otherTrack[col]))\n",
    "        res[trackId]=dist\n",
    "    # sorting by ascending order as we computed distance and not similarity\n",
    "    res=dict(sorted(res.items(), key=lambda res: res[1])[1:N]) #we do not take the first value that is the same song\n",
    "    displayResults(res) "
   ]
  },
  {
   "cell_type": "code",
   "execution_count": 25,
   "metadata": {},
   "outputs": [
    {
     "name": "stdout",
     "output_type": "stream",
     "text": [
      "Getting recommendations for Schumacher by ['Justrock'] \n",
      "Title : Gottlos, artists : [\"['Agonoize']\"], score : 0.3599554771209725\n",
      "Title : Praise You - Radio Edit, artists : [\"['Fatboy Slim']\"], score : 0.38075408010043077\n",
      "Title : More Human Than Human, artists : [\"['White Zombie']\"], score : 0.4398903922967523\n",
      "Title : Bring the Beat Back, artists : [\"['Calagad 13']\"], score : 0.445493713015948\n"
     ]
    }
   ],
   "source": [
    "track_test=normalized_df.iloc[13,:]\n",
    "recommendations=get_recommendations_2(track_test,normalized_df, 5)"
   ]
  },
  {
   "cell_type": "markdown",
   "metadata": {},
   "source": [
    "After listening to the songs, we can see that the results are much better !\n",
    "Let's try it with a song we know"
   ]
  },
  {
   "cell_type": "code",
   "execution_count": 26,
   "metadata": {},
   "outputs": [
    {
     "data": {
      "text/html": [
       "<div>\n",
       "<style scoped>\n",
       "    .dataframe tbody tr th:only-of-type {\n",
       "        vertical-align: middle;\n",
       "    }\n",
       "\n",
       "    .dataframe tbody tr th {\n",
       "        vertical-align: top;\n",
       "    }\n",
       "\n",
       "    .dataframe thead th {\n",
       "        text-align: right;\n",
       "    }\n",
       "</style>\n",
       "<table border=\"1\" class=\"dataframe\">\n",
       "  <thead>\n",
       "    <tr style=\"text-align: right;\">\n",
       "      <th></th>\n",
       "      <th>acousticness</th>\n",
       "      <th>artists</th>\n",
       "      <th>danceability</th>\n",
       "      <th>duration_ms</th>\n",
       "      <th>energy</th>\n",
       "      <th>explicit</th>\n",
       "      <th>id</th>\n",
       "      <th>instrumentalness</th>\n",
       "      <th>key</th>\n",
       "      <th>liveness</th>\n",
       "      <th>loudness</th>\n",
       "      <th>mode</th>\n",
       "      <th>name</th>\n",
       "      <th>popularity</th>\n",
       "      <th>release_date</th>\n",
       "      <th>speechiness</th>\n",
       "      <th>tempo</th>\n",
       "      <th>valence</th>\n",
       "      <th>year</th>\n",
       "    </tr>\n",
       "  </thead>\n",
       "  <tbody>\n",
       "    <tr>\n",
       "      <th>12263</th>\n",
       "      <td>0.0236</td>\n",
       "      <td>['Michael Jackson']</td>\n",
       "      <td>0.920</td>\n",
       "      <td>293827</td>\n",
       "      <td>0.654</td>\n",
       "      <td>0</td>\n",
       "      <td>5ChkMS8OtdzJeqyybCc9R5</td>\n",
       "      <td>0.015800</td>\n",
       "      <td>11</td>\n",
       "      <td>0.0359</td>\n",
       "      <td>-3.051</td>\n",
       "      <td>0</td>\n",
       "      <td>Billie Jean</td>\n",
       "      <td>83</td>\n",
       "      <td>1982-11-30</td>\n",
       "      <td>0.0401</td>\n",
       "      <td>117.046</td>\n",
       "      <td>0.847</td>\n",
       "      <td>1982</td>\n",
       "    </tr>\n",
       "    <tr>\n",
       "      <th>12347</th>\n",
       "      <td>0.0173</td>\n",
       "      <td>['Michael Jackson']</td>\n",
       "      <td>0.932</td>\n",
       "      <td>294227</td>\n",
       "      <td>0.457</td>\n",
       "      <td>0</td>\n",
       "      <td>7J1uxwnxfQLu4APicE5Rnj</td>\n",
       "      <td>0.043600</td>\n",
       "      <td>11</td>\n",
       "      <td>0.0414</td>\n",
       "      <td>-9.620</td>\n",
       "      <td>0</td>\n",
       "      <td>Billie Jean</td>\n",
       "      <td>59</td>\n",
       "      <td>1982-11-30</td>\n",
       "      <td>0.0541</td>\n",
       "      <td>117.002</td>\n",
       "      <td>0.884</td>\n",
       "      <td>1982</td>\n",
       "    </tr>\n",
       "    <tr>\n",
       "      <th>53348</th>\n",
       "      <td>0.0168</td>\n",
       "      <td>['Michael Jackson']</td>\n",
       "      <td>0.920</td>\n",
       "      <td>294000</td>\n",
       "      <td>0.579</td>\n",
       "      <td>0</td>\n",
       "      <td>6vR5u5b8JeRESx5nZaIWx6</td>\n",
       "      <td>0.053000</td>\n",
       "      <td>11</td>\n",
       "      <td>0.0419</td>\n",
       "      <td>-5.517</td>\n",
       "      <td>0</td>\n",
       "      <td>Billie Jean</td>\n",
       "      <td>54</td>\n",
       "      <td>1995-06-16</td>\n",
       "      <td>0.0414</td>\n",
       "      <td>117.084</td>\n",
       "      <td>0.838</td>\n",
       "      <td>1995</td>\n",
       "    </tr>\n",
       "    <tr>\n",
       "      <th>124997</th>\n",
       "      <td>0.8290</td>\n",
       "      <td>['The Civil Wars']</td>\n",
       "      <td>0.532</td>\n",
       "      <td>259920</td>\n",
       "      <td>0.203</td>\n",
       "      <td>0</td>\n",
       "      <td>4zzi2eD2cEPpQ3a307mPPj</td>\n",
       "      <td>0.000000</td>\n",
       "      <td>9</td>\n",
       "      <td>0.1080</td>\n",
       "      <td>-8.524</td>\n",
       "      <td>0</td>\n",
       "      <td>Billie Jean</td>\n",
       "      <td>61</td>\n",
       "      <td>2012</td>\n",
       "      <td>0.0668</td>\n",
       "      <td>89.646</td>\n",
       "      <td>0.543</td>\n",
       "      <td>2012</td>\n",
       "    </tr>\n",
       "    <tr>\n",
       "      <th>156041</th>\n",
       "      <td>0.5920</td>\n",
       "      <td>['Chris Cornell']</td>\n",
       "      <td>0.513</td>\n",
       "      <td>281373</td>\n",
       "      <td>0.625</td>\n",
       "      <td>0</td>\n",
       "      <td>7sZD8tOmfRUObogGX8VzfZ</td>\n",
       "      <td>0.000039</td>\n",
       "      <td>4</td>\n",
       "      <td>0.1200</td>\n",
       "      <td>-4.822</td>\n",
       "      <td>0</td>\n",
       "      <td>Billie Jean</td>\n",
       "      <td>46</td>\n",
       "      <td>2007-01-01</td>\n",
       "      <td>0.0436</td>\n",
       "      <td>137.863</td>\n",
       "      <td>0.408</td>\n",
       "      <td>2007</td>\n",
       "    </tr>\n",
       "  </tbody>\n",
       "</table>\n",
       "</div>"
      ],
      "text/plain": [
       "        acousticness              artists  danceability  duration_ms  energy  \\\n",
       "12263         0.0236  ['Michael Jackson']         0.920       293827   0.654   \n",
       "12347         0.0173  ['Michael Jackson']         0.932       294227   0.457   \n",
       "53348         0.0168  ['Michael Jackson']         0.920       294000   0.579   \n",
       "124997        0.8290   ['The Civil Wars']         0.532       259920   0.203   \n",
       "156041        0.5920    ['Chris Cornell']         0.513       281373   0.625   \n",
       "\n",
       "        explicit                      id  instrumentalness  key  liveness  \\\n",
       "12263          0  5ChkMS8OtdzJeqyybCc9R5          0.015800   11    0.0359   \n",
       "12347          0  7J1uxwnxfQLu4APicE5Rnj          0.043600   11    0.0414   \n",
       "53348          0  6vR5u5b8JeRESx5nZaIWx6          0.053000   11    0.0419   \n",
       "124997         0  4zzi2eD2cEPpQ3a307mPPj          0.000000    9    0.1080   \n",
       "156041         0  7sZD8tOmfRUObogGX8VzfZ          0.000039    4    0.1200   \n",
       "\n",
       "        loudness  mode         name  popularity release_date  speechiness  \\\n",
       "12263     -3.051     0  Billie Jean          83   1982-11-30       0.0401   \n",
       "12347     -9.620     0  Billie Jean          59   1982-11-30       0.0541   \n",
       "53348     -5.517     0  Billie Jean          54   1995-06-16       0.0414   \n",
       "124997    -8.524     0  Billie Jean          61         2012       0.0668   \n",
       "156041    -4.822     0  Billie Jean          46   2007-01-01       0.0436   \n",
       "\n",
       "          tempo  valence  year  \n",
       "12263   117.046    0.847  1982  \n",
       "12347   117.002    0.884  1982  \n",
       "53348   117.084    0.838  1995  \n",
       "124997   89.646    0.543  2012  \n",
       "156041  137.863    0.408  2007  "
      ]
     },
     "execution_count": 26,
     "metadata": {},
     "output_type": "execute_result"
    }
   ],
   "source": [
    "track_test2= tracks[tracks['name']=='Billie Jean']\n",
    "track_test2"
   ]
  },
  {
   "cell_type": "raw",
   "metadata": {},
   "source": [
    "As we can see there are a lot of different versions of the same songs, we will take the most popular one."
   ]
  },
  {
   "cell_type": "code",
   "execution_count": 27,
   "metadata": {},
   "outputs": [],
   "source": [
    "track_test2=normalized_df.iloc[12263,:]"
   ]
  },
  {
   "cell_type": "code",
   "execution_count": 28,
   "metadata": {},
   "outputs": [
    {
     "data": {
      "text/plain": [
       "acousticness        0.023695\n",
       "danceability        0.931174\n",
       "energy              0.654000\n",
       "instrumentalness    0.015800\n",
       "key                 1.000000\n",
       "liveness            0.035900\n",
       "loudness            0.891849\n",
       "mode                0.000000\n",
       "speechiness         0.041298\n",
       "tempo               0.480668\n",
       "valence             0.847000\n",
       "category            0.444444\n",
       "Name: 5ChkMS8OtdzJeqyybCc9R5, dtype: float64"
      ]
     },
     "execution_count": 28,
     "metadata": {},
     "output_type": "execute_result"
    }
   ],
   "source": [
    "track_test2"
   ]
  },
  {
   "cell_type": "code",
   "execution_count": 29,
   "metadata": {},
   "outputs": [
    {
     "name": "stdout",
     "output_type": "stream",
     "text": [
      "Getting recommendations for Billie Jean by ['Michael Jackson'] \n",
      "Title : Billie Jean, artists : [\"['Michael Jackson']\"], score : 0.1741409337938068\n",
      "Title : I Want You, artists : [\"['Gary Low']\"], score : 0.24962034485312506\n",
      "Title : Move Ya Body, artists : [\"['Nina Sky', 'Jabba']\"], score : 0.24993882106425594\n",
      "Title : Misty Morning - Kaya 40 Mix, artists : [\"['Bob Marley & The Wailers', 'Stephen Marley']\"], score : 0.27252539621328287\n"
     ]
    }
   ],
   "source": [
    "get_recommendations_2(track_test2,normalized_df, 5)"
   ]
  },
  {
   "cell_type": "markdown",
   "metadata": {},
   "source": [
    "Sound good too"
   ]
  },
  {
   "cell_type": "code",
   "execution_count": 30,
   "metadata": {},
   "outputs": [],
   "source": [
    "track_test2=normalized_df.loc['5ChkMS8OtdzJeqyybCc9R5',:]"
   ]
  },
  {
   "cell_type": "code",
   "execution_count": 31,
   "metadata": {},
   "outputs": [
    {
     "data": {
      "text/plain": [
       "acousticness        0.023695\n",
       "danceability        0.931174\n",
       "energy              0.654000\n",
       "instrumentalness    0.015800\n",
       "key                 1.000000\n",
       "liveness            0.035900\n",
       "loudness            0.891849\n",
       "mode                0.000000\n",
       "speechiness         0.041298\n",
       "tempo               0.480668\n",
       "valence             0.847000\n",
       "category            0.444444\n",
       "Name: 5ChkMS8OtdzJeqyybCc9R5, dtype: float64"
      ]
     },
     "execution_count": 31,
     "metadata": {},
     "output_type": "execute_result"
    }
   ],
   "source": [
    "track_test2"
   ]
  },
  {
   "cell_type": "code",
   "execution_count": 32,
   "metadata": {},
   "outputs": [],
   "source": [
    "song = tracks[(tracks['name'].str.lower() == 'Billie Jean'.lower())].head(1)"
   ]
  },
  {
   "cell_type": "code",
   "execution_count": 33,
   "metadata": {},
   "outputs": [
    {
     "data": {
      "text/plain": [
       "'5ChkMS8OtdzJeqyybCc9R5'"
      ]
     },
     "execution_count": 33,
     "metadata": {},
     "output_type": "execute_result"
    }
   ],
   "source": [
    "song['id'].values[0]"
   ]
  },
  {
   "cell_type": "code",
   "execution_count": 34,
   "metadata": {},
   "outputs": [],
   "source": [
    "import pandas as pd\n",
    "import numpy as np\n",
    "from sklearn.cluster import KMeans\n",
    "from math import *\n",
    "\n",
    "# class to syntethize and integrate the work done on the notebook\n",
    "class recommender():\n",
    "\n",
    "    def __init__(self):\n",
    "        self.tracks=pd.read_csv(\"datasets/data.csv\", sep=',')\n",
    "        self.normalized_tracks, self.km = self.preprocessing(self.tracks)\n",
    "        self.normalize_clusters=list(self.normalized_tracks['cluster'].unique()).sort()\n",
    "    \n",
    "    \n",
    "    def euclidean_distance(self, x,y):\n",
    "         return sqrt(sum(pow(a-b,2) for a, b in zip(x, y)))\n",
    "        \n",
    "    def manhattan_distance(self, x, y):\n",
    "        return sum(abs(a-b) for a,b in zip(x,y))\n",
    "    \n",
    "    def preprocessing(self,df):\n",
    "        # to gather all the preprocessing steps in one function\n",
    "        # deleting unwanted features\n",
    "        df=df.drop(['artists', 'name', 'release_date', 'explicit','year', 'popularity', 'duration_ms'], axis=1)\n",
    "        df=df.set_index('id')\n",
    "        #normalize \n",
    "        df=(df-df.min())/(df.max()-df.min())\n",
    "        # clustering\n",
    "        km=KMeans(n_clusters=10)\n",
    "        cluster=km.fit_predict(df)\n",
    "        df['cluster']=cluster\n",
    "        df['cluster']=(df['cluster'] - df['cluster'].min())/(df['cluster'].max() - df['cluster'].min())\n",
    "        return df, km\n",
    "\n",
    "    def get_recommendation(self, track_name, N):\n",
    "        track = self.tracks[(self.tracks['name'].str.lower() == track_name.lower())].head(1)\n",
    "        if track is not None:\n",
    "      # if track found in the dataset getting the vector associated\n",
    "            track_vector=self.normalized_tracks.loc[track['id'].values[0], :]\n",
    "            res={}\n",
    "            for trackId, otherTrack in tqdm(self.normalized_tracks.iterrows()):\n",
    "                dist=0\n",
    "                for col in np.arange(len(self.normalized_tracks.columns)):\n",
    "                # manhattan distance\n",
    "                    dist=dist+np.absolute(float(track_vector[col]) - float(otherTrack[col]))\n",
    "                res[trackId]=dist\n",
    "    # sorting by ascending order as we computed distance and not similarity\n",
    "            res=dict(sorted(res.items(), key=lambda res: res[1])[1:N]) #we do not take the first value that is the same song\n",
    "            return res\n",
    "        else:\n",
    "              return None\n",
    "            \n",
    "            \n",
    "    def get_recommendation_euclidian(self, track_name, N):\n",
    "        track = self.tracks[(self.tracks['name'].str.lower() == track_name.lower())].head(1)\n",
    "        if track is not None:\n",
    "      # if track found in the dataset getting the vector associated\n",
    "            track_vector=self.normalized_tracks.loc[track['id'].values[0], :]\n",
    "            res={}\n",
    "            for trackId, otherTrack in tqdm(self.normalized_tracks.iterrows()):\n",
    "                dist=self.euclidean_distance(list(track_vector), list(otherTrack))\n",
    "                res[trackId]=dist\n",
    "    # sorting by ascending order as we computed distance and not similarity\n",
    "            res=dict(sorted(res.items(), key=lambda res: res[1])[1:N]) #we do not take the first value that is the same song\n",
    "            return res\n",
    "        else:\n",
    "              return None\n",
    "            \n",
    "    def get_recommendation_manhattan(self, track_name, N):\n",
    "        track = self.tracks[(self.tracks['name'].str.lower() == track_name.lower())].head(1)\n",
    "        if track is not None:\n",
    "      # if track found in the dataset getting the vector associated\n",
    "            track_vector=self.normalized_tracks.loc[track['id'].values[0], :]\n",
    "            res={}\n",
    "            for trackId, otherTrack in tqdm(self.normalized_tracks.iterrows()):\n",
    "                dist=self.manhattan_distance(list(track_vector), list(otherTrack))\n",
    "                res[trackId]=dist\n",
    "    # sorting by ascending order as we computed distance and not similarity\n",
    "            res=dict(sorted(res.items(), key=lambda res: res[1])[1:N]) #we do not take the first value that is the same song\n",
    "            return res\n",
    "        else:\n",
    "              return None\n",
    "            \n",
    "    def displayResults(self, recommendations):\n",
    "        for id, score in recommendations.items():\n",
    "            track=tracks.loc[tracks['id']==id]\n",
    "            name=track['name'].values[0]\n",
    "            artists=track['artists'].values\n",
    "            print('Title : {}, artists : {}, score : {}'.format(name, artists, score))\n",
    "    \n",
    "\n",
    "  "
   ]
  },
  {
   "cell_type": "code",
   "execution_count": 35,
   "metadata": {},
   "outputs": [],
   "source": [
    "recom=recommender()"
   ]
  },
  {
   "cell_type": "code",
   "execution_count": 36,
   "metadata": {},
   "outputs": [
    {
     "name": "stderr",
     "output_type": "stream",
     "text": [
      "174389it [00:09, 17813.43it/s]\n"
     ]
    },
    {
     "name": "stdout",
     "output_type": "stream",
     "text": [
      "Title : Billie Jean, artists : [\"['Michael Jackson']\"], score : 0.1741409337938068\n",
      "Title : I Want You, artists : [\"['Gary Low']\"], score : 0.24962034485312506\n",
      "Title : Move Ya Body, artists : [\"['Nina Sky', 'Jabba']\"], score : 0.24993882106425594\n",
      "Title : Misty Morning - Kaya 40 Mix, artists : [\"['Bob Marley & The Wailers', 'Stephen Marley']\"], score : 0.27252539621328287\n"
     ]
    }
   ],
   "source": [
    "res=recom.get_recommendation_manhattan('Billie Jean', 5)\n",
    "displayResults(res)"
   ]
  },
  {
   "cell_type": "code",
   "execution_count": 37,
   "metadata": {},
   "outputs": [
    {
     "name": "stderr",
     "output_type": "stream",
     "text": [
      "174389it [00:09, 17811.63it/s]\n"
     ]
    },
    {
     "name": "stdout",
     "output_type": "stream",
     "text": [
      "Title : Billie Jean, artists : [\"['Michael Jackson']\"], score : 0.09308961526539382\n",
      "Title : Move Ya Body, artists : [\"['Nina Sky', 'Jabba']\"], score : 0.10216686580844991\n"
     ]
    }
   ],
   "source": [
    "res=recom.get_recommendation_euclidian('Billie Jean', 3)\n",
    "displayResults(res)"
   ]
  },
  {
   "cell_type": "code",
   "execution_count": 38,
   "metadata": {},
   "outputs": [
    {
     "name": "stderr",
     "output_type": "stream",
     "text": [
      "174389it [00:09, 19054.41it/s]\n"
     ]
    },
    {
     "name": "stdout",
     "output_type": "stream",
     "text": [
      "Title : I Want To Break Free - Single Version, artists : [\"['Queen']\"], score : 0.28867632179118335\n",
      "Title : I Want To Break Free - Remastered 2011, artists : [\"['Queen']\"], score : 0.30331569199021086\n",
      "Title : Ghosts, artists : [\"['The Jam']\"], score : 0.3247442634431798\n",
      "Title : I Like What You're Doing (To Me), artists : [\"['Carla Thomas']\"], score : 0.354965536143669\n"
     ]
    }
   ],
   "source": [
    "res=recom.get_recommendation_manhattan('I want to break free', 5)\n",
    "displayResults(res)"
   ]
  },
  {
   "cell_type": "code",
   "execution_count": 39,
   "metadata": {},
   "outputs": [
    {
     "data": {
      "text/plain": [
       "dict_keys(['3ldRLdk3D4cuvrWYmfBQk0', '6NAEpcvbmNdT0cWP3LFDcY', '58NE0639huS0DWQAEKXsB8', '2fnbljRroXC33HuhgyoApM'])"
      ]
     },
     "execution_count": 39,
     "metadata": {},
     "output_type": "execute_result"
    }
   ],
   "source": [
    "res.keys()"
   ]
  },
  {
   "cell_type": "code",
   "execution_count": 42,
   "metadata": {},
   "outputs": [
    {
     "data": {
      "text/plain": [
       "'6NAEpcvbmNdT0cWP3LFDcY'"
      ]
     },
     "execution_count": 42,
     "metadata": {},
     "output_type": "execute_result"
    }
   ],
   "source": [
    "list(res.keys())[1]"
   ]
  },
  {
   "cell_type": "code",
   "execution_count": null,
   "metadata": {},
   "outputs": [],
   "source": []
  }
 ],
 "metadata": {
  "colab": {
   "collapsed_sections": [],
   "name": "track-based-recommendation.ipynb",
   "provenance": []
  },
  "kernelspec": {
   "display_name": "Python 3",
   "language": "python",
   "name": "python3"
  },
  "language_info": {
   "codemirror_mode": {
    "name": "ipython",
    "version": 3
   },
   "file_extension": ".py",
   "mimetype": "text/x-python",
   "name": "python",
   "nbconvert_exporter": "python",
   "pygments_lexer": "ipython3",
   "version": "3.8.7"
  }
 },
 "nbformat": 4,
 "nbformat_minor": 1
}
